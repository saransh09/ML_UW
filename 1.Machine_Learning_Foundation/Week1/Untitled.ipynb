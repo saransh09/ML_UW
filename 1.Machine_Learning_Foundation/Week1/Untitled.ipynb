{
 "cells": [
  {
   "cell_type": "markdown",
   "metadata": {},
   "source": [
    "# Fire up GraphLab Create"
   ]
  },
  {
   "cell_type": "code",
   "execution_count": 1,
   "metadata": {
    "collapsed": true
   },
   "outputs": [],
   "source": [
    "import graphlab"
   ]
  },
  {
   "cell_type": "markdown",
   "metadata": {},
   "source": [
    "# load a tabular dataset"
   ]
  },
  {
   "cell_type": "code",
   "execution_count": 3,
   "metadata": {
    "collapsed": false
   },
   "outputs": [
    {
     "data": {
      "text/html": [
       "<pre>Finished parsing file /home/saransh/Downloads/ML_UW/FL_insurance_sample.csv/FL_insurance_sample.csv</pre>"
      ],
      "text/plain": [
       "Finished parsing file /home/saransh/Downloads/ML_UW/FL_insurance_sample.csv/FL_insurance_sample.csv"
      ]
     },
     "metadata": {},
     "output_type": "display_data"
    },
    {
     "data": {
      "text/html": [
       "<pre>Parsing completed. Parsed 100 lines in 0.207505 secs.</pre>"
      ],
      "text/plain": [
       "Parsing completed. Parsed 100 lines in 0.207505 secs."
      ]
     },
     "metadata": {},
     "output_type": "display_data"
    },
    {
     "name": "stdout",
     "output_type": "stream",
     "text": [
      "------------------------------------------------------\n",
      "Inferred types from first 100 line(s) of file as \n",
      "column_type_hints=[int,str,str,float,float,float,float,float,float,int,float,int,int,float,float,str,str,int]\n",
      "If parsing fails due to incorrect types, you can correct\n",
      "the inferred type list above and pass it to read_csv in\n",
      "the column_type_hints argument\n",
      "------------------------------------------------------\n"
     ]
    },
    {
     "data": {
      "text/html": [
       "<pre>Finished parsing file /home/saransh/Downloads/ML_UW/FL_insurance_sample.csv/FL_insurance_sample.csv</pre>"
      ],
      "text/plain": [
       "Finished parsing file /home/saransh/Downloads/ML_UW/FL_insurance_sample.csv/FL_insurance_sample.csv"
      ]
     },
     "metadata": {},
     "output_type": "display_data"
    },
    {
     "data": {
      "text/html": [
       "<pre>Parsing completed. Parsed 36634 lines in 0.11837 secs.</pre>"
      ],
      "text/plain": [
       "Parsing completed. Parsed 36634 lines in 0.11837 secs."
      ]
     },
     "metadata": {},
     "output_type": "display_data"
    }
   ],
   "source": [
    "sf = graphlab.SFrame('/home/saransh/Downloads/ML_UW/FL_insurance_sample.csv')"
   ]
  },
  {
   "cell_type": "code",
   "execution_count": 4,
   "metadata": {
    "collapsed": false
   },
   "outputs": [
    {
     "data": {
      "text/html": [
       "<div style=\"max-height:1000px;max-width:1500px;overflow:auto;\"><table frame=\"box\" rules=\"cols\">\n",
       "    <tr>\n",
       "        <th style=\"padding-left: 1em; padding-right: 1em; text-align: center\">policyID</th>\n",
       "        <th style=\"padding-left: 1em; padding-right: 1em; text-align: center\">statecode</th>\n",
       "        <th style=\"padding-left: 1em; padding-right: 1em; text-align: center\">county</th>\n",
       "        <th style=\"padding-left: 1em; padding-right: 1em; text-align: center\">eq_site_limit</th>\n",
       "        <th style=\"padding-left: 1em; padding-right: 1em; text-align: center\">hu_site_limit</th>\n",
       "        <th style=\"padding-left: 1em; padding-right: 1em; text-align: center\">fl_site_limit</th>\n",
       "        <th style=\"padding-left: 1em; padding-right: 1em; text-align: center\">fr_site_limit</th>\n",
       "        <th style=\"padding-left: 1em; padding-right: 1em; text-align: center\">tiv_2011</th>\n",
       "    </tr>\n",
       "    <tr>\n",
       "        <td style=\"padding-left: 1em; padding-right: 1em; text-align: center; vertical-align: top\">119736</td>\n",
       "        <td style=\"padding-left: 1em; padding-right: 1em; text-align: center; vertical-align: top\">FL</td>\n",
       "        <td style=\"padding-left: 1em; padding-right: 1em; text-align: center; vertical-align: top\">CLAY COUNTY</td>\n",
       "        <td style=\"padding-left: 1em; padding-right: 1em; text-align: center; vertical-align: top\">498960.0</td>\n",
       "        <td style=\"padding-left: 1em; padding-right: 1em; text-align: center; vertical-align: top\">498960.0</td>\n",
       "        <td style=\"padding-left: 1em; padding-right: 1em; text-align: center; vertical-align: top\">498960.0</td>\n",
       "        <td style=\"padding-left: 1em; padding-right: 1em; text-align: center; vertical-align: top\">498960.0</td>\n",
       "        <td style=\"padding-left: 1em; padding-right: 1em; text-align: center; vertical-align: top\">498960.0</td>\n",
       "    </tr>\n",
       "    <tr>\n",
       "        <td style=\"padding-left: 1em; padding-right: 1em; text-align: center; vertical-align: top\">448094</td>\n",
       "        <td style=\"padding-left: 1em; padding-right: 1em; text-align: center; vertical-align: top\">FL</td>\n",
       "        <td style=\"padding-left: 1em; padding-right: 1em; text-align: center; vertical-align: top\">CLAY COUNTY</td>\n",
       "        <td style=\"padding-left: 1em; padding-right: 1em; text-align: center; vertical-align: top\">1322376.3</td>\n",
       "        <td style=\"padding-left: 1em; padding-right: 1em; text-align: center; vertical-align: top\">1322376.3</td>\n",
       "        <td style=\"padding-left: 1em; padding-right: 1em; text-align: center; vertical-align: top\">1322376.3</td>\n",
       "        <td style=\"padding-left: 1em; padding-right: 1em; text-align: center; vertical-align: top\">1322376.3</td>\n",
       "        <td style=\"padding-left: 1em; padding-right: 1em; text-align: center; vertical-align: top\">1322376.3</td>\n",
       "    </tr>\n",
       "    <tr>\n",
       "        <td style=\"padding-left: 1em; padding-right: 1em; text-align: center; vertical-align: top\">206893</td>\n",
       "        <td style=\"padding-left: 1em; padding-right: 1em; text-align: center; vertical-align: top\">FL</td>\n",
       "        <td style=\"padding-left: 1em; padding-right: 1em; text-align: center; vertical-align: top\">CLAY COUNTY</td>\n",
       "        <td style=\"padding-left: 1em; padding-right: 1em; text-align: center; vertical-align: top\">190724.4</td>\n",
       "        <td style=\"padding-left: 1em; padding-right: 1em; text-align: center; vertical-align: top\">190724.4</td>\n",
       "        <td style=\"padding-left: 1em; padding-right: 1em; text-align: center; vertical-align: top\">190724.4</td>\n",
       "        <td style=\"padding-left: 1em; padding-right: 1em; text-align: center; vertical-align: top\">190724.4</td>\n",
       "        <td style=\"padding-left: 1em; padding-right: 1em; text-align: center; vertical-align: top\">190724.4</td>\n",
       "    </tr>\n",
       "    <tr>\n",
       "        <td style=\"padding-left: 1em; padding-right: 1em; text-align: center; vertical-align: top\">333743</td>\n",
       "        <td style=\"padding-left: 1em; padding-right: 1em; text-align: center; vertical-align: top\">FL</td>\n",
       "        <td style=\"padding-left: 1em; padding-right: 1em; text-align: center; vertical-align: top\">CLAY COUNTY</td>\n",
       "        <td style=\"padding-left: 1em; padding-right: 1em; text-align: center; vertical-align: top\">0.0</td>\n",
       "        <td style=\"padding-left: 1em; padding-right: 1em; text-align: center; vertical-align: top\">79520.76</td>\n",
       "        <td style=\"padding-left: 1em; padding-right: 1em; text-align: center; vertical-align: top\">0.0</td>\n",
       "        <td style=\"padding-left: 1em; padding-right: 1em; text-align: center; vertical-align: top\">0.0</td>\n",
       "        <td style=\"padding-left: 1em; padding-right: 1em; text-align: center; vertical-align: top\">79520.76</td>\n",
       "    </tr>\n",
       "    <tr>\n",
       "        <td style=\"padding-left: 1em; padding-right: 1em; text-align: center; vertical-align: top\">172534</td>\n",
       "        <td style=\"padding-left: 1em; padding-right: 1em; text-align: center; vertical-align: top\">FL</td>\n",
       "        <td style=\"padding-left: 1em; padding-right: 1em; text-align: center; vertical-align: top\">CLAY COUNTY</td>\n",
       "        <td style=\"padding-left: 1em; padding-right: 1em; text-align: center; vertical-align: top\">0.0</td>\n",
       "        <td style=\"padding-left: 1em; padding-right: 1em; text-align: center; vertical-align: top\">254281.5</td>\n",
       "        <td style=\"padding-left: 1em; padding-right: 1em; text-align: center; vertical-align: top\">0.0</td>\n",
       "        <td style=\"padding-left: 1em; padding-right: 1em; text-align: center; vertical-align: top\">254281.5</td>\n",
       "        <td style=\"padding-left: 1em; padding-right: 1em; text-align: center; vertical-align: top\">254281.5</td>\n",
       "    </tr>\n",
       "    <tr>\n",
       "        <td style=\"padding-left: 1em; padding-right: 1em; text-align: center; vertical-align: top\">785275</td>\n",
       "        <td style=\"padding-left: 1em; padding-right: 1em; text-align: center; vertical-align: top\">FL</td>\n",
       "        <td style=\"padding-left: 1em; padding-right: 1em; text-align: center; vertical-align: top\">CLAY COUNTY</td>\n",
       "        <td style=\"padding-left: 1em; padding-right: 1em; text-align: center; vertical-align: top\">0.0</td>\n",
       "        <td style=\"padding-left: 1em; padding-right: 1em; text-align: center; vertical-align: top\">515035.62</td>\n",
       "        <td style=\"padding-left: 1em; padding-right: 1em; text-align: center; vertical-align: top\">0.0</td>\n",
       "        <td style=\"padding-left: 1em; padding-right: 1em; text-align: center; vertical-align: top\">0.0</td>\n",
       "        <td style=\"padding-left: 1em; padding-right: 1em; text-align: center; vertical-align: top\">515035.62</td>\n",
       "    </tr>\n",
       "    <tr>\n",
       "        <td style=\"padding-left: 1em; padding-right: 1em; text-align: center; vertical-align: top\">995932</td>\n",
       "        <td style=\"padding-left: 1em; padding-right: 1em; text-align: center; vertical-align: top\">FL</td>\n",
       "        <td style=\"padding-left: 1em; padding-right: 1em; text-align: center; vertical-align: top\">CLAY COUNTY</td>\n",
       "        <td style=\"padding-left: 1em; padding-right: 1em; text-align: center; vertical-align: top\">0.0</td>\n",
       "        <td style=\"padding-left: 1em; padding-right: 1em; text-align: center; vertical-align: top\">19260000.0</td>\n",
       "        <td style=\"padding-left: 1em; padding-right: 1em; text-align: center; vertical-align: top\">0.0</td>\n",
       "        <td style=\"padding-left: 1em; padding-right: 1em; text-align: center; vertical-align: top\">0.0</td>\n",
       "        <td style=\"padding-left: 1em; padding-right: 1em; text-align: center; vertical-align: top\">19260000.0</td>\n",
       "    </tr>\n",
       "    <tr>\n",
       "        <td style=\"padding-left: 1em; padding-right: 1em; text-align: center; vertical-align: top\">223488</td>\n",
       "        <td style=\"padding-left: 1em; padding-right: 1em; text-align: center; vertical-align: top\">FL</td>\n",
       "        <td style=\"padding-left: 1em; padding-right: 1em; text-align: center; vertical-align: top\">CLAY COUNTY</td>\n",
       "        <td style=\"padding-left: 1em; padding-right: 1em; text-align: center; vertical-align: top\">328500.0</td>\n",
       "        <td style=\"padding-left: 1em; padding-right: 1em; text-align: center; vertical-align: top\">328500.0</td>\n",
       "        <td style=\"padding-left: 1em; padding-right: 1em; text-align: center; vertical-align: top\">328500.0</td>\n",
       "        <td style=\"padding-left: 1em; padding-right: 1em; text-align: center; vertical-align: top\">328500.0</td>\n",
       "        <td style=\"padding-left: 1em; padding-right: 1em; text-align: center; vertical-align: top\">328500.0</td>\n",
       "    </tr>\n",
       "    <tr>\n",
       "        <td style=\"padding-left: 1em; padding-right: 1em; text-align: center; vertical-align: top\">433512</td>\n",
       "        <td style=\"padding-left: 1em; padding-right: 1em; text-align: center; vertical-align: top\">FL</td>\n",
       "        <td style=\"padding-left: 1em; padding-right: 1em; text-align: center; vertical-align: top\">CLAY COUNTY</td>\n",
       "        <td style=\"padding-left: 1em; padding-right: 1em; text-align: center; vertical-align: top\">315000.0</td>\n",
       "        <td style=\"padding-left: 1em; padding-right: 1em; text-align: center; vertical-align: top\">315000.0</td>\n",
       "        <td style=\"padding-left: 1em; padding-right: 1em; text-align: center; vertical-align: top\">315000.0</td>\n",
       "        <td style=\"padding-left: 1em; padding-right: 1em; text-align: center; vertical-align: top\">315000.0</td>\n",
       "        <td style=\"padding-left: 1em; padding-right: 1em; text-align: center; vertical-align: top\">315000.0</td>\n",
       "    </tr>\n",
       "    <tr>\n",
       "        <td style=\"padding-left: 1em; padding-right: 1em; text-align: center; vertical-align: top\">142071</td>\n",
       "        <td style=\"padding-left: 1em; padding-right: 1em; text-align: center; vertical-align: top\">FL</td>\n",
       "        <td style=\"padding-left: 1em; padding-right: 1em; text-align: center; vertical-align: top\">CLAY COUNTY</td>\n",
       "        <td style=\"padding-left: 1em; padding-right: 1em; text-align: center; vertical-align: top\">705600.0</td>\n",
       "        <td style=\"padding-left: 1em; padding-right: 1em; text-align: center; vertical-align: top\">705600.0</td>\n",
       "        <td style=\"padding-left: 1em; padding-right: 1em; text-align: center; vertical-align: top\">705600.0</td>\n",
       "        <td style=\"padding-left: 1em; padding-right: 1em; text-align: center; vertical-align: top\">705600.0</td>\n",
       "        <td style=\"padding-left: 1em; padding-right: 1em; text-align: center; vertical-align: top\">705600.0</td>\n",
       "    </tr>\n",
       "</table>\n",
       "<table frame=\"box\" rules=\"cols\">\n",
       "    <tr>\n",
       "        <th style=\"padding-left: 1em; padding-right: 1em; text-align: center\">tiv_2012</th>\n",
       "        <th style=\"padding-left: 1em; padding-right: 1em; text-align: center\">eq_site_deductible</th>\n",
       "        <th style=\"padding-left: 1em; padding-right: 1em; text-align: center\">hu_site_deductible</th>\n",
       "        <th style=\"padding-left: 1em; padding-right: 1em; text-align: center\">fl_site_deductible</th>\n",
       "        <th style=\"padding-left: 1em; padding-right: 1em; text-align: center\">fr_site_deductible</th>\n",
       "        <th style=\"padding-left: 1em; padding-right: 1em; text-align: center\">point_latitude</th>\n",
       "    </tr>\n",
       "    <tr>\n",
       "        <td style=\"padding-left: 1em; padding-right: 1em; text-align: center; vertical-align: top\">792148.9</td>\n",
       "        <td style=\"padding-left: 1em; padding-right: 1em; text-align: center; vertical-align: top\">0</td>\n",
       "        <td style=\"padding-left: 1em; padding-right: 1em; text-align: center; vertical-align: top\">9979.2</td>\n",
       "        <td style=\"padding-left: 1em; padding-right: 1em; text-align: center; vertical-align: top\">0</td>\n",
       "        <td style=\"padding-left: 1em; padding-right: 1em; text-align: center; vertical-align: top\">0</td>\n",
       "        <td style=\"padding-left: 1em; padding-right: 1em; text-align: center; vertical-align: top\">30.102261</td>\n",
       "    </tr>\n",
       "    <tr>\n",
       "        <td style=\"padding-left: 1em; padding-right: 1em; text-align: center; vertical-align: top\">1438163.57</td>\n",
       "        <td style=\"padding-left: 1em; padding-right: 1em; text-align: center; vertical-align: top\">0</td>\n",
       "        <td style=\"padding-left: 1em; padding-right: 1em; text-align: center; vertical-align: top\">0.0</td>\n",
       "        <td style=\"padding-left: 1em; padding-right: 1em; text-align: center; vertical-align: top\">0</td>\n",
       "        <td style=\"padding-left: 1em; padding-right: 1em; text-align: center; vertical-align: top\">0</td>\n",
       "        <td style=\"padding-left: 1em; padding-right: 1em; text-align: center; vertical-align: top\">30.063936</td>\n",
       "    </tr>\n",
       "    <tr>\n",
       "        <td style=\"padding-left: 1em; padding-right: 1em; text-align: center; vertical-align: top\">192476.78</td>\n",
       "        <td style=\"padding-left: 1em; padding-right: 1em; text-align: center; vertical-align: top\">0</td>\n",
       "        <td style=\"padding-left: 1em; padding-right: 1em; text-align: center; vertical-align: top\">0.0</td>\n",
       "        <td style=\"padding-left: 1em; padding-right: 1em; text-align: center; vertical-align: top\">0</td>\n",
       "        <td style=\"padding-left: 1em; padding-right: 1em; text-align: center; vertical-align: top\">0</td>\n",
       "        <td style=\"padding-left: 1em; padding-right: 1em; text-align: center; vertical-align: top\">30.089579</td>\n",
       "    </tr>\n",
       "    <tr>\n",
       "        <td style=\"padding-left: 1em; padding-right: 1em; text-align: center; vertical-align: top\">86854.48</td>\n",
       "        <td style=\"padding-left: 1em; padding-right: 1em; text-align: center; vertical-align: top\">0</td>\n",
       "        <td style=\"padding-left: 1em; padding-right: 1em; text-align: center; vertical-align: top\">0.0</td>\n",
       "        <td style=\"padding-left: 1em; padding-right: 1em; text-align: center; vertical-align: top\">0</td>\n",
       "        <td style=\"padding-left: 1em; padding-right: 1em; text-align: center; vertical-align: top\">0</td>\n",
       "        <td style=\"padding-left: 1em; padding-right: 1em; text-align: center; vertical-align: top\">30.063236</td>\n",
       "    </tr>\n",
       "    <tr>\n",
       "        <td style=\"padding-left: 1em; padding-right: 1em; text-align: center; vertical-align: top\">246144.49</td>\n",
       "        <td style=\"padding-left: 1em; padding-right: 1em; text-align: center; vertical-align: top\">0</td>\n",
       "        <td style=\"padding-left: 1em; padding-right: 1em; text-align: center; vertical-align: top\">0.0</td>\n",
       "        <td style=\"padding-left: 1em; padding-right: 1em; text-align: center; vertical-align: top\">0</td>\n",
       "        <td style=\"padding-left: 1em; padding-right: 1em; text-align: center; vertical-align: top\">0</td>\n",
       "        <td style=\"padding-left: 1em; padding-right: 1em; text-align: center; vertical-align: top\">30.060614</td>\n",
       "    </tr>\n",
       "    <tr>\n",
       "        <td style=\"padding-left: 1em; padding-right: 1em; text-align: center; vertical-align: top\">884419.17</td>\n",
       "        <td style=\"padding-left: 1em; padding-right: 1em; text-align: center; vertical-align: top\">0</td>\n",
       "        <td style=\"padding-left: 1em; padding-right: 1em; text-align: center; vertical-align: top\">0.0</td>\n",
       "        <td style=\"padding-left: 1em; padding-right: 1em; text-align: center; vertical-align: top\">0</td>\n",
       "        <td style=\"padding-left: 1em; padding-right: 1em; text-align: center; vertical-align: top\">0</td>\n",
       "        <td style=\"padding-left: 1em; padding-right: 1em; text-align: center; vertical-align: top\">30.063236</td>\n",
       "    </tr>\n",
       "    <tr>\n",
       "        <td style=\"padding-left: 1em; padding-right: 1em; text-align: center; vertical-align: top\">20610000.0</td>\n",
       "        <td style=\"padding-left: 1em; padding-right: 1em; text-align: center; vertical-align: top\">0</td>\n",
       "        <td style=\"padding-left: 1em; padding-right: 1em; text-align: center; vertical-align: top\">0.0</td>\n",
       "        <td style=\"padding-left: 1em; padding-right: 1em; text-align: center; vertical-align: top\">0</td>\n",
       "        <td style=\"padding-left: 1em; padding-right: 1em; text-align: center; vertical-align: top\">0</td>\n",
       "        <td style=\"padding-left: 1em; padding-right: 1em; text-align: center; vertical-align: top\">30.102226</td>\n",
       "    </tr>\n",
       "    <tr>\n",
       "        <td style=\"padding-left: 1em; padding-right: 1em; text-align: center; vertical-align: top\">348374.25</td>\n",
       "        <td style=\"padding-left: 1em; padding-right: 1em; text-align: center; vertical-align: top\">0</td>\n",
       "        <td style=\"padding-left: 1em; padding-right: 1em; text-align: center; vertical-align: top\">16425.0</td>\n",
       "        <td style=\"padding-left: 1em; padding-right: 1em; text-align: center; vertical-align: top\">0</td>\n",
       "        <td style=\"padding-left: 1em; padding-right: 1em; text-align: center; vertical-align: top\">0</td>\n",
       "        <td style=\"padding-left: 1em; padding-right: 1em; text-align: center; vertical-align: top\">30.102217</td>\n",
       "    </tr>\n",
       "    <tr>\n",
       "        <td style=\"padding-left: 1em; padding-right: 1em; text-align: center; vertical-align: top\">265821.57</td>\n",
       "        <td style=\"padding-left: 1em; padding-right: 1em; text-align: center; vertical-align: top\">0</td>\n",
       "        <td style=\"padding-left: 1em; padding-right: 1em; text-align: center; vertical-align: top\">15750.0</td>\n",
       "        <td style=\"padding-left: 1em; padding-right: 1em; text-align: center; vertical-align: top\">0</td>\n",
       "        <td style=\"padding-left: 1em; padding-right: 1em; text-align: center; vertical-align: top\">0</td>\n",
       "        <td style=\"padding-left: 1em; padding-right: 1em; text-align: center; vertical-align: top\">30.118774</td>\n",
       "    </tr>\n",
       "    <tr>\n",
       "        <td style=\"padding-left: 1em; padding-right: 1em; text-align: center; vertical-align: top\">1010842.56</td>\n",
       "        <td style=\"padding-left: 1em; padding-right: 1em; text-align: center; vertical-align: top\">14112</td>\n",
       "        <td style=\"padding-left: 1em; padding-right: 1em; text-align: center; vertical-align: top\">35280.0</td>\n",
       "        <td style=\"padding-left: 1em; padding-right: 1em; text-align: center; vertical-align: top\">0</td>\n",
       "        <td style=\"padding-left: 1em; padding-right: 1em; text-align: center; vertical-align: top\">0</td>\n",
       "        <td style=\"padding-left: 1em; padding-right: 1em; text-align: center; vertical-align: top\">30.100628</td>\n",
       "    </tr>\n",
       "</table>\n",
       "<table frame=\"box\" rules=\"cols\">\n",
       "    <tr>\n",
       "        <th style=\"padding-left: 1em; padding-right: 1em; text-align: center\">point_longitude</th>\n",
       "        <th style=\"padding-left: 1em; padding-right: 1em; text-align: center\">line</th>\n",
       "        <th style=\"padding-left: 1em; padding-right: 1em; text-align: center\">construction</th>\n",
       "        <th style=\"padding-left: 1em; padding-right: 1em; text-align: center\">point_granularity</th>\n",
       "    </tr>\n",
       "    <tr>\n",
       "        <td style=\"padding-left: 1em; padding-right: 1em; text-align: center; vertical-align: top\">-81.711777</td>\n",
       "        <td style=\"padding-left: 1em; padding-right: 1em; text-align: center; vertical-align: top\">Residential</td>\n",
       "        <td style=\"padding-left: 1em; padding-right: 1em; text-align: center; vertical-align: top\">Masonry</td>\n",
       "        <td style=\"padding-left: 1em; padding-right: 1em; text-align: center; vertical-align: top\">1</td>\n",
       "    </tr>\n",
       "    <tr>\n",
       "        <td style=\"padding-left: 1em; padding-right: 1em; text-align: center; vertical-align: top\">-81.707664</td>\n",
       "        <td style=\"padding-left: 1em; padding-right: 1em; text-align: center; vertical-align: top\">Residential</td>\n",
       "        <td style=\"padding-left: 1em; padding-right: 1em; text-align: center; vertical-align: top\">Masonry</td>\n",
       "        <td style=\"padding-left: 1em; padding-right: 1em; text-align: center; vertical-align: top\">3</td>\n",
       "    </tr>\n",
       "    <tr>\n",
       "        <td style=\"padding-left: 1em; padding-right: 1em; text-align: center; vertical-align: top\">-81.700455</td>\n",
       "        <td style=\"padding-left: 1em; padding-right: 1em; text-align: center; vertical-align: top\">Residential</td>\n",
       "        <td style=\"padding-left: 1em; padding-right: 1em; text-align: center; vertical-align: top\">Wood</td>\n",
       "        <td style=\"padding-left: 1em; padding-right: 1em; text-align: center; vertical-align: top\">1</td>\n",
       "    </tr>\n",
       "    <tr>\n",
       "        <td style=\"padding-left: 1em; padding-right: 1em; text-align: center; vertical-align: top\">-81.707703</td>\n",
       "        <td style=\"padding-left: 1em; padding-right: 1em; text-align: center; vertical-align: top\">Residential</td>\n",
       "        <td style=\"padding-left: 1em; padding-right: 1em; text-align: center; vertical-align: top\">Wood</td>\n",
       "        <td style=\"padding-left: 1em; padding-right: 1em; text-align: center; vertical-align: top\">3</td>\n",
       "    </tr>\n",
       "    <tr>\n",
       "        <td style=\"padding-left: 1em; padding-right: 1em; text-align: center; vertical-align: top\">-81.702675</td>\n",
       "        <td style=\"padding-left: 1em; padding-right: 1em; text-align: center; vertical-align: top\">Residential</td>\n",
       "        <td style=\"padding-left: 1em; padding-right: 1em; text-align: center; vertical-align: top\">Wood</td>\n",
       "        <td style=\"padding-left: 1em; padding-right: 1em; text-align: center; vertical-align: top\">1</td>\n",
       "    </tr>\n",
       "    <tr>\n",
       "        <td style=\"padding-left: 1em; padding-right: 1em; text-align: center; vertical-align: top\">-81.707703</td>\n",
       "        <td style=\"padding-left: 1em; padding-right: 1em; text-align: center; vertical-align: top\">Residential</td>\n",
       "        <td style=\"padding-left: 1em; padding-right: 1em; text-align: center; vertical-align: top\">Masonry</td>\n",
       "        <td style=\"padding-left: 1em; padding-right: 1em; text-align: center; vertical-align: top\">3</td>\n",
       "    </tr>\n",
       "    <tr>\n",
       "        <td style=\"padding-left: 1em; padding-right: 1em; text-align: center; vertical-align: top\">-81.713882</td>\n",
       "        <td style=\"padding-left: 1em; padding-right: 1em; text-align: center; vertical-align: top\">Commercial</td>\n",
       "        <td style=\"padding-left: 1em; padding-right: 1em; text-align: center; vertical-align: top\">Reinforced Concrete</td>\n",
       "        <td style=\"padding-left: 1em; padding-right: 1em; text-align: center; vertical-align: top\">1</td>\n",
       "    </tr>\n",
       "    <tr>\n",
       "        <td style=\"padding-left: 1em; padding-right: 1em; text-align: center; vertical-align: top\">-81.707146</td>\n",
       "        <td style=\"padding-left: 1em; padding-right: 1em; text-align: center; vertical-align: top\">Residential</td>\n",
       "        <td style=\"padding-left: 1em; padding-right: 1em; text-align: center; vertical-align: top\">Wood</td>\n",
       "        <td style=\"padding-left: 1em; padding-right: 1em; text-align: center; vertical-align: top\">1</td>\n",
       "    </tr>\n",
       "    <tr>\n",
       "        <td style=\"padding-left: 1em; padding-right: 1em; text-align: center; vertical-align: top\">-81.704613</td>\n",
       "        <td style=\"padding-left: 1em; padding-right: 1em; text-align: center; vertical-align: top\">Residential</td>\n",
       "        <td style=\"padding-left: 1em; padding-right: 1em; text-align: center; vertical-align: top\">Wood</td>\n",
       "        <td style=\"padding-left: 1em; padding-right: 1em; text-align: center; vertical-align: top\">1</td>\n",
       "    </tr>\n",
       "    <tr>\n",
       "        <td style=\"padding-left: 1em; padding-right: 1em; text-align: center; vertical-align: top\">-81.703751</td>\n",
       "        <td style=\"padding-left: 1em; padding-right: 1em; text-align: center; vertical-align: top\">Residential</td>\n",
       "        <td style=\"padding-left: 1em; padding-right: 1em; text-align: center; vertical-align: top\">Masonry</td>\n",
       "        <td style=\"padding-left: 1em; padding-right: 1em; text-align: center; vertical-align: top\">1</td>\n",
       "    </tr>\n",
       "</table>\n",
       "[36634 rows x 18 columns]<br/>Note: Only the head of the SFrame is printed.<br/>You can use print_rows(num_rows=m, num_columns=n) to print more rows and columns.\n",
       "</div>"
      ],
      "text/plain": [
       "Columns:\n",
       "\tpolicyID\tint\n",
       "\tstatecode\tstr\n",
       "\tcounty\tstr\n",
       "\teq_site_limit\tfloat\n",
       "\thu_site_limit\tfloat\n",
       "\tfl_site_limit\tfloat\n",
       "\tfr_site_limit\tfloat\n",
       "\ttiv_2011\tfloat\n",
       "\ttiv_2012\tfloat\n",
       "\teq_site_deductible\tint\n",
       "\thu_site_deductible\tfloat\n",
       "\tfl_site_deductible\tint\n",
       "\tfr_site_deductible\tint\n",
       "\tpoint_latitude\tfloat\n",
       "\tpoint_longitude\tfloat\n",
       "\tline\tstr\n",
       "\tconstruction\tstr\n",
       "\tpoint_granularity\tint\n",
       "\n",
       "Rows: 36634\n",
       "\n",
       "Data:\n",
       "+----------+-----------+-------------+---------------+---------------+---------------+\n",
       "| policyID | statecode |    county   | eq_site_limit | hu_site_limit | fl_site_limit |\n",
       "+----------+-----------+-------------+---------------+---------------+---------------+\n",
       "|  119736  |     FL    | CLAY COUNTY |    498960.0   |    498960.0   |    498960.0   |\n",
       "|  448094  |     FL    | CLAY COUNTY |   1322376.3   |   1322376.3   |   1322376.3   |\n",
       "|  206893  |     FL    | CLAY COUNTY |    190724.4   |    190724.4   |    190724.4   |\n",
       "|  333743  |     FL    | CLAY COUNTY |      0.0      |    79520.76   |      0.0      |\n",
       "|  172534  |     FL    | CLAY COUNTY |      0.0      |    254281.5   |      0.0      |\n",
       "|  785275  |     FL    | CLAY COUNTY |      0.0      |   515035.62   |      0.0      |\n",
       "|  995932  |     FL    | CLAY COUNTY |      0.0      |   19260000.0  |      0.0      |\n",
       "|  223488  |     FL    | CLAY COUNTY |    328500.0   |    328500.0   |    328500.0   |\n",
       "|  433512  |     FL    | CLAY COUNTY |    315000.0   |    315000.0   |    315000.0   |\n",
       "|  142071  |     FL    | CLAY COUNTY |    705600.0   |    705600.0   |    705600.0   |\n",
       "+----------+-----------+-------------+---------------+---------------+---------------+\n",
       "+---------------+------------+------------+--------------------+--------------------+\n",
       "| fr_site_limit |  tiv_2011  |  tiv_2012  | eq_site_deductible | hu_site_deductible |\n",
       "+---------------+------------+------------+--------------------+--------------------+\n",
       "|    498960.0   |  498960.0  |  792148.9  |         0          |       9979.2       |\n",
       "|   1322376.3   | 1322376.3  | 1438163.57 |         0          |        0.0         |\n",
       "|    190724.4   |  190724.4  | 192476.78  |         0          |        0.0         |\n",
       "|      0.0      |  79520.76  |  86854.48  |         0          |        0.0         |\n",
       "|    254281.5   |  254281.5  | 246144.49  |         0          |        0.0         |\n",
       "|      0.0      | 515035.62  | 884419.17  |         0          |        0.0         |\n",
       "|      0.0      | 19260000.0 | 20610000.0 |         0          |        0.0         |\n",
       "|    328500.0   |  328500.0  | 348374.25  |         0          |      16425.0       |\n",
       "|    315000.0   |  315000.0  | 265821.57  |         0          |      15750.0       |\n",
       "|    705600.0   |  705600.0  | 1010842.56 |       14112        |      35280.0       |\n",
       "+---------------+------------+------------+--------------------+--------------------+\n",
       "+--------------------+--------------------+----------------+-----------------+\n",
       "| fl_site_deductible | fr_site_deductible | point_latitude | point_longitude |\n",
       "+--------------------+--------------------+----------------+-----------------+\n",
       "|         0          |         0          |   30.102261    |    -81.711777   |\n",
       "|         0          |         0          |   30.063936    |    -81.707664   |\n",
       "|         0          |         0          |   30.089579    |    -81.700455   |\n",
       "|         0          |         0          |   30.063236    |    -81.707703   |\n",
       "|         0          |         0          |   30.060614    |    -81.702675   |\n",
       "|         0          |         0          |   30.063236    |    -81.707703   |\n",
       "|         0          |         0          |   30.102226    |    -81.713882   |\n",
       "|         0          |         0          |   30.102217    |    -81.707146   |\n",
       "|         0          |         0          |   30.118774    |    -81.704613   |\n",
       "|         0          |         0          |   30.100628    |    -81.703751   |\n",
       "+--------------------+--------------------+----------------+-----------------+\n",
       "+-------------+---------------------+-------------------+\n",
       "|     line    |     construction    | point_granularity |\n",
       "+-------------+---------------------+-------------------+\n",
       "| Residential |       Masonry       |         1         |\n",
       "| Residential |       Masonry       |         3         |\n",
       "| Residential |         Wood        |         1         |\n",
       "| Residential |         Wood        |         3         |\n",
       "| Residential |         Wood        |         1         |\n",
       "| Residential |       Masonry       |         3         |\n",
       "|  Commercial | Reinforced Concrete |         1         |\n",
       "| Residential |         Wood        |         1         |\n",
       "| Residential |         Wood        |         1         |\n",
       "| Residential |       Masonry       |         1         |\n",
       "+-------------+---------------------+-------------------+\n",
       "[36634 rows x 18 columns]\n",
       "Note: Only the head of the SFrame is printed.\n",
       "You can use print_rows(num_rows=m, num_columns=n) to print more rows and columns."
      ]
     },
     "execution_count": 4,
     "metadata": {},
     "output_type": "execute_result"
    }
   ],
   "source": [
    "sf"
   ]
  },
  {
   "cell_type": "code",
   "execution_count": 5,
   "metadata": {
    "collapsed": false
   },
   "outputs": [
    {
     "name": "stdout",
     "output_type": "stream",
     "text": [
      "Canvas is accessible via web browser at the URL: http://localhost:39105/index.html\n",
      "Opening Canvas in default web browser.\n"
     ]
    }
   ],
   "source": [
    "sf.show()"
   ]
  },
  {
   "cell_type": "code",
   "execution_count": 6,
   "metadata": {
    "collapsed": true
   },
   "outputs": [],
   "source": [
    "graphlab.canvas.set_target('ipynb')"
   ]
  },
  {
   "cell_type": "code",
   "execution_count": 7,
   "metadata": {
    "collapsed": false
   },
   "outputs": [
    {
     "data": {
      "application/javascript": [
       "$(\"head\").append($(\"<link/>\").attr({\n",
       "  rel:  \"stylesheet\",\n",
       "  type: \"text/css\",\n",
       "  href: \"//cdnjs.cloudflare.com/ajax/libs/font-awesome/4.1.0/css/font-awesome.min.css\"\n",
       "}));\n",
       "$(\"head\").append($(\"<link/>\").attr({\n",
       "  rel:  \"stylesheet\",\n",
       "  type: \"text/css\",\n",
       "  href: \"https://static.turi.com/products/graphlab-create/2.1/canvas/css/canvas.css\"\n",
       "}));\n",
       "\n",
       "            (function(){\n",
       "\n",
       "                var e = null;\n",
       "                if (typeof element == 'undefined') {\n",
       "                    var scripts = document.getElementsByTagName('script');\n",
       "                    var thisScriptTag = scripts[scripts.length-1];\n",
       "                    var parentDiv = thisScriptTag.parentNode;\n",
       "                    e = document.createElement('div');\n",
       "                    parentDiv.appendChild(e);\n",
       "                } else {\n",
       "                    e = element[0];\n",
       "                }\n",
       "\n",
       "                if (typeof requirejs !== 'undefined') {\n",
       "                    // disable load timeout; ipython_app.js is large and can take a while to load.\n",
       "                    requirejs.config({waitSeconds: 0});\n",
       "                }\n",
       "\n",
       "                require(['https://static.turi.com/products/graphlab-create/2.1/canvas/js/ipython_app.js'], function(IPythonApp){\n",
       "                    var app = new IPythonApp();\n",
       "                    app.attachView('sarray','Categorical', {\"ipython\": true, \"sketch\": {\"complete\": true, \"numeric\": false, \"num_unique\": 67, \"num_undefined\": 0, \"progress\": 1.0, \"frequent_items\": {\"GILCHRIST COUNTY\": {\"frequency\": 39, \"value\": \"GILCHRIST COUNTY\"}, \"OKALOOSA COUNTY\": {\"frequency\": 1115, \"value\": \"OKALOOSA COUNTY\"}, \"TAYLOR COUNTY\": {\"frequency\": 113, \"value\": \"TAYLOR COUNTY\"}, \"FLAGLER COUNTY\": {\"frequency\": 204, \"value\": \"FLAGLER COUNTY\"}, \"LAKE COUNTY\": {\"frequency\": 206, \"value\": \"LAKE COUNTY\"}, \"DESOTO COUNTY\": {\"frequency\": 108, \"value\": \"DESOTO COUNTY\"}, \"LAFAYETTE COUNTY\": {\"frequency\": 68, \"value\": \"LAFAYETTE COUNTY\"}, \"CHARLOTTE COUNTY\": {\"frequency\": 414, \"value\": \"CHARLOTTE COUNTY\"}, \"PASCO COUNTY\": {\"frequency\": 790, \"value\": \"PASCO COUNTY\"}, \"BRADFORD COUNTY\": {\"frequency\": 31, \"value\": \"BRADFORD COUNTY\"}, \"MONROE COUNTY\": {\"frequency\": 152, \"value\": \"MONROE COUNTY\"}, \"LEVY COUNTY\": {\"frequency\": 126, \"value\": \"LEVY COUNTY\"}, \"HENDRY COUNTY\": {\"frequency\": 74, \"value\": \"HENDRY COUNTY\"}, \"BREVARD COUNTY\": {\"frequency\": 872, \"value\": \"BREVARD COUNTY\"}, \"POLK COUNTY\": {\"frequency\": 1629, \"value\": \"POLK COUNTY\"}, \"BAY COUNTY\": {\"frequency\": 403, \"value\": \"BAY COUNTY\"}, \"HARDEE COUNTY\": {\"frequency\": 81, \"value\": \"HARDEE COUNTY\"}, \"LEON COUNTY\": {\"frequency\": 246, \"value\": \"LEON COUNTY\"}, \"COLUMBIA COUNTY\": {\"frequency\": 125, \"value\": \"COLUMBIA COUNTY\"}, \"INDIAN RIVER COUNTY\": {\"frequency\": 380, \"value\": \"INDIAN RIVER ...\"}, \"JEFFERSON COUNTY\": {\"frequency\": 57, \"value\": \"JEFFERSON COUNTY\"}, \"PUTNAM COUNTY\": {\"frequency\": 268, \"value\": \"PUTNAM COUNTY\"}, \"MADISON COUNTY\": {\"frequency\": 81, \"value\": \"MADISON COUNTY\"}, \"PALM BEACH COUNTY\": {\"frequency\": 2791, \"value\": \"PALM BEACH COUNTY\"}, \"ESCAMBIA COUNTY\": {\"frequency\": 494, \"value\": \"ESCAMBIA COUNTY\"}, \"FRANKLIN COUNTY\": {\"frequency\": 37, \"value\": \"FRANKLIN COUNTY\"}, \"HERNANDO COUNTY\": {\"frequency\": 120, \"value\": \"HERNANDO COUNTY\"}, \"HAMILTON COUNTY\": {\"frequency\": 35, \"value\": \"HAMILTON COUNTY\"}, \"LEE COUNTY\": {\"frequency\": 678, \"value\": \"LEE COUNTY\"}, \"CITRUS COUNTY\": {\"frequency\": 384, \"value\": \"CITRUS COUNTY\"}, \"GADSDEN COUNTY\": {\"frequency\": 196, \"value\": \"GADSDEN COUNTY\"}, \"ORANGE COUNTY\": {\"frequency\": 1811, \"value\": \"ORANGE COUNTY\"}, \"COLLIER COUNTY\": {\"frequency\": 787, \"value\": \"COLLIER COUNTY\"}, \"BAKER COUNTY\": {\"frequency\": 70, \"value\": \"BAKER COUNTY\"}, \"DIXIE COUNTY\": {\"frequency\": 40, \"value\": \"DIXIE COUNTY\"}, \"UNION COUNTY\": {\"frequency\": 15, \"value\": \"UNION COUNTY\"}, \"VOLUSIA COUNTY\": {\"frequency\": 1367, \"value\": \"VOLUSIA COUNTY\"}, \"MARTIN COUNTY\": {\"frequency\": 109, \"value\": \"MARTIN COUNTY\"}, \"SUMTER COUNTY\": {\"frequency\": 158, \"value\": \"SUMTER COUNTY\"}, \"DUVAL COUNTY\": {\"frequency\": 1894, \"value\": \"DUVAL COUNTY\"}, \"HILLSBOROUGH COUNTY\": {\"frequency\": 1166, \"value\": \"HILLSBOROUGH ...\"}, \"NASSAU COUNTY\": {\"frequency\": 135, \"value\": \"NASSAU COUNTY\"}, \"SANTA ROSA COUNTY\": {\"frequency\": 856, \"value\": \"SANTA ROSA COUNTY\"}, \"Orlando\": {\"frequency\": 1, \"value\": \"Orlando\"}, \"WASHINGTON COUNTY\": {\"frequency\": 116, \"value\": \"WASHINGTON COUNTY\"}, \"HIGHLANDS COUNTY\": {\"frequency\": 369, \"value\": \"HIGHLANDS COUNTY\"}, \"North Fort Myers\": {\"frequency\": 1, \"value\": \"North Fort Myers\"}, \"SARASOTA COUNTY\": {\"frequency\": 417, \"value\": \"SARASOTA COUNTY\"}, \"PINELLAS COUNTY\": {\"frequency\": 1774, \"value\": \"PINELLAS COUNTY\"}, \"MANATEE COUNTY\": {\"frequency\": 518, \"value\": \"MANATEE COUNTY\"}, \"MARION COUNTY\": {\"frequency\": 1138, \"value\": \"MARION COUNTY\"}, \"WAKULLA COUNTY\": {\"frequency\": 85, \"value\": \"WAKULLA COUNTY\"}, \"ALACHUA COUNTY\": {\"frequency\": 973, \"value\": \"ALACHUA COUNTY\"}, \"MIAMI DADE COUNTY\": {\"frequency\": 4315, \"value\": \"MIAMI DADE COUNTY\"}, \"SUWANNEE COUNTY\": {\"frequency\": 154, \"value\": \"SUWANNEE COUNTY\"}, \"JACKSON COUNTY\": {\"frequency\": 208, \"value\": \"JACKSON COUNTY\"}, \"CALHOUN COUNTY\": {\"frequency\": 68, \"value\": \"CALHOUN COUNTY\"}, \"HOLMES COUNTY\": {\"frequency\": 40, \"value\": \"HOLMES COUNTY\"}, \"GULF COUNTY\": {\"frequency\": 72, \"value\": \"GULF COUNTY\"}, \"LIBERTY COUNTY\": {\"frequency\": 36, \"value\": \"LIBERTY COUNTY\"}, \"OSCEOLA COUNTY\": {\"frequency\": 1, \"value\": \"OSCEOLA COUNTY\"}, \"WALTON COUNTY\": {\"frequency\": 288, \"value\": \"WALTON COUNTY\"}, \"BROWARD COUNTY\": {\"frequency\": 3193, \"value\": \"BROWARD COUNTY\"}, \"ST  JOHNS COUNTY\": {\"frequency\": 657, \"value\": \"ST  JOHNS COUNTY\"}, \"CLAY COUNTY\": {\"frequency\": 363, \"value\": \"CLAY COUNTY\"}, \"SEMINOLE COUNTY\": {\"frequency\": 1100, \"value\": \"SEMINOLE COUNTY\"}, \"GLADES COUNTY\": {\"frequency\": 22, \"value\": \"GLADES COUNTY\"}}, \"size\": 36634}, \"selected_variable\": {\"name\": [\"<SArray>\"], \"dtype\": \"str\", \"view_component\": \"Categorical\", \"view_file\": \"sarray\", \"descriptives\": {\"rows\": 36634}, \"type\": \"SArray\", \"view_components\": [\"Categorical\"]}, \"histogram\": null}, e);\n",
       "                });\n",
       "            })();\n",
       "        "
      ]
     },
     "metadata": {},
     "output_type": "display_data"
    }
   ],
   "source": [
    "sf['county'].show(view='Categorical')"
   ]
  },
  {
   "cell_type": "code",
   "execution_count": null,
   "metadata": {
    "collapsed": true
   },
   "outputs": [],
   "source": []
  }
 ],
 "metadata": {
  "kernelspec": {
   "display_name": "Python [gl-env]",
   "language": "python",
   "name": "Python [gl-env]"
  },
  "language_info": {
   "codemirror_mode": {
    "name": "ipython",
    "version": 2
   },
   "file_extension": ".py",
   "mimetype": "text/x-python",
   "name": "python",
   "nbconvert_exporter": "python",
   "pygments_lexer": "ipython2",
   "version": "2.7.12"
  }
 },
 "nbformat": 4,
 "nbformat_minor": 0
}
