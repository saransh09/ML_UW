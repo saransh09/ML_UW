{
 "cells": [
  {
   "cell_type": "code",
   "execution_count": 1,
   "metadata": {
    "collapsed": true
   },
   "outputs": [],
   "source": [
    "import graphlab"
   ]
  },
  {
   "cell_type": "code",
   "execution_count": 2,
   "metadata": {
    "collapsed": false
   },
   "outputs": [
    {
     "name": "stdout",
     "output_type": "stream",
     "text": [
      "This non-commercial license of GraphLab Create for academic use is assigned to saranshagarwal_2k14@dtu.ac.in and will expire on September 05, 2017.\n"
     ]
    },
    {
     "name": "stderr",
     "output_type": "stream",
     "text": [
      "[INFO] graphlab.cython.cy_server: GraphLab Create v2.1 started. Logging: /tmp/graphlab_server_1475257093.log\n"
     ]
    }
   ],
   "source": [
    "sales = graphlab.SFrame('kc_house_data.gl/')"
   ]
  },
  {
   "cell_type": "code",
   "execution_count": 3,
   "metadata": {
    "collapsed": true
   },
   "outputs": [],
   "source": [
    "train_data,test_data = sales.random_split(.8,seed=0)"
   ]
  },
  {
   "cell_type": "code",
   "execution_count": 4,
   "metadata": {
    "collapsed": true
   },
   "outputs": [],
   "source": [
    "example_features = ['sqft_living','bedrooms','bathrooms']"
   ]
  },
  {
   "cell_type": "code",
   "execution_count": 6,
   "metadata": {
    "collapsed": false
   },
   "outputs": [
    {
     "data": {
      "text/html": [
       "<pre>Linear regression:</pre>"
      ],
      "text/plain": [
       "Linear regression:"
      ]
     },
     "metadata": {},
     "output_type": "display_data"
    },
    {
     "data": {
      "text/html": [
       "<pre>--------------------------------------------------------</pre>"
      ],
      "text/plain": [
       "--------------------------------------------------------"
      ]
     },
     "metadata": {},
     "output_type": "display_data"
    },
    {
     "data": {
      "text/html": [
       "<pre>Number of examples          : 17384</pre>"
      ],
      "text/plain": [
       "Number of examples          : 17384"
      ]
     },
     "metadata": {},
     "output_type": "display_data"
    },
    {
     "data": {
      "text/html": [
       "<pre>Number of features          : 3</pre>"
      ],
      "text/plain": [
       "Number of features          : 3"
      ]
     },
     "metadata": {},
     "output_type": "display_data"
    },
    {
     "data": {
      "text/html": [
       "<pre>Number of unpacked features : 3</pre>"
      ],
      "text/plain": [
       "Number of unpacked features : 3"
      ]
     },
     "metadata": {},
     "output_type": "display_data"
    },
    {
     "data": {
      "text/html": [
       "<pre>Number of coefficients    : 4</pre>"
      ],
      "text/plain": [
       "Number of coefficients    : 4"
      ]
     },
     "metadata": {},
     "output_type": "display_data"
    },
    {
     "data": {
      "text/html": [
       "<pre>Starting Newton Method</pre>"
      ],
      "text/plain": [
       "Starting Newton Method"
      ]
     },
     "metadata": {},
     "output_type": "display_data"
    },
    {
     "data": {
      "text/html": [
       "<pre>--------------------------------------------------------</pre>"
      ],
      "text/plain": [
       "--------------------------------------------------------"
      ]
     },
     "metadata": {},
     "output_type": "display_data"
    },
    {
     "data": {
      "text/html": [
       "<pre>+-----------+----------+--------------+--------------------+---------------+</pre>"
      ],
      "text/plain": [
       "+-----------+----------+--------------+--------------------+---------------+"
      ]
     },
     "metadata": {},
     "output_type": "display_data"
    },
    {
     "data": {
      "text/html": [
       "<pre>| Iteration | Passes   | Elapsed Time | Training-max_error | Training-rmse |</pre>"
      ],
      "text/plain": [
       "| Iteration | Passes   | Elapsed Time | Training-max_error | Training-rmse |"
      ]
     },
     "metadata": {},
     "output_type": "display_data"
    },
    {
     "data": {
      "text/html": [
       "<pre>+-----------+----------+--------------+--------------------+---------------+</pre>"
      ],
      "text/plain": [
       "+-----------+----------+--------------+--------------------+---------------+"
      ]
     },
     "metadata": {},
     "output_type": "display_data"
    },
    {
     "data": {
      "text/html": [
       "<pre>| 1         | 2        | 1.038745     | 4146407.600631     | 258679.804477 |</pre>"
      ],
      "text/plain": [
       "| 1         | 2        | 1.038745     | 4146407.600631     | 258679.804477 |"
      ]
     },
     "metadata": {},
     "output_type": "display_data"
    },
    {
     "data": {
      "text/html": [
       "<pre>+-----------+----------+--------------+--------------------+---------------+</pre>"
      ],
      "text/plain": [
       "+-----------+----------+--------------+--------------------+---------------+"
      ]
     },
     "metadata": {},
     "output_type": "display_data"
    },
    {
     "data": {
      "text/html": [
       "<pre>SUCCESS: Optimal solution found.</pre>"
      ],
      "text/plain": [
       "SUCCESS: Optimal solution found."
      ]
     },
     "metadata": {},
     "output_type": "display_data"
    },
    {
     "data": {
      "text/html": [
       "<pre></pre>"
      ],
      "text/plain": []
     },
     "metadata": {},
     "output_type": "display_data"
    }
   ],
   "source": [
    "example_model = graphlab.linear_regression.create(train_data,target='price',features= example_features,validation_set=None)"
   ]
  },
  {
   "cell_type": "code",
   "execution_count": 8,
   "metadata": {
    "collapsed": false
   },
   "outputs": [
    {
     "data": {
      "text/html": [
       "<div style=\"max-height:1000px;max-width:1500px;overflow:auto;\"><table frame=\"box\" rules=\"cols\">\n",
       "    <tr>\n",
       "        <th style=\"padding-left: 1em; padding-right: 1em; text-align: center\">name</th>\n",
       "        <th style=\"padding-left: 1em; padding-right: 1em; text-align: center\">index</th>\n",
       "        <th style=\"padding-left: 1em; padding-right: 1em; text-align: center\">value</th>\n",
       "        <th style=\"padding-left: 1em; padding-right: 1em; text-align: center\">stderr</th>\n",
       "    </tr>\n",
       "    <tr>\n",
       "        <td style=\"padding-left: 1em; padding-right: 1em; text-align: center; vertical-align: top\">(intercept)</td>\n",
       "        <td style=\"padding-left: 1em; padding-right: 1em; text-align: center; vertical-align: top\">None</td>\n",
       "        <td style=\"padding-left: 1em; padding-right: 1em; text-align: center; vertical-align: top\">87910.0724924</td>\n",
       "        <td style=\"padding-left: 1em; padding-right: 1em; text-align: center; vertical-align: top\">7873.3381434</td>\n",
       "    </tr>\n",
       "    <tr>\n",
       "        <td style=\"padding-left: 1em; padding-right: 1em; text-align: center; vertical-align: top\">sqft_living</td>\n",
       "        <td style=\"padding-left: 1em; padding-right: 1em; text-align: center; vertical-align: top\">None</td>\n",
       "        <td style=\"padding-left: 1em; padding-right: 1em; text-align: center; vertical-align: top\">315.403440552</td>\n",
       "        <td style=\"padding-left: 1em; padding-right: 1em; text-align: center; vertical-align: top\">3.45570032585</td>\n",
       "    </tr>\n",
       "    <tr>\n",
       "        <td style=\"padding-left: 1em; padding-right: 1em; text-align: center; vertical-align: top\">bedrooms</td>\n",
       "        <td style=\"padding-left: 1em; padding-right: 1em; text-align: center; vertical-align: top\">None</td>\n",
       "        <td style=\"padding-left: 1em; padding-right: 1em; text-align: center; vertical-align: top\">-65080.2155528</td>\n",
       "        <td style=\"padding-left: 1em; padding-right: 1em; text-align: center; vertical-align: top\">2717.45685442</td>\n",
       "    </tr>\n",
       "    <tr>\n",
       "        <td style=\"padding-left: 1em; padding-right: 1em; text-align: center; vertical-align: top\">bathrooms</td>\n",
       "        <td style=\"padding-left: 1em; padding-right: 1em; text-align: center; vertical-align: top\">None</td>\n",
       "        <td style=\"padding-left: 1em; padding-right: 1em; text-align: center; vertical-align: top\">6944.02019265</td>\n",
       "        <td style=\"padding-left: 1em; padding-right: 1em; text-align: center; vertical-align: top\">3923.11493144</td>\n",
       "    </tr>\n",
       "</table>\n",
       "[4 rows x 4 columns]<br/>\n",
       "</div>"
      ],
      "text/plain": [
       "Columns:\n",
       "\tname\tstr\n",
       "\tindex\tstr\n",
       "\tvalue\tfloat\n",
       "\tstderr\tfloat\n",
       "\n",
       "Rows: 4\n",
       "\n",
       "Data:\n",
       "+-------------+-------+----------------+---------------+\n",
       "|     name    | index |     value      |     stderr    |\n",
       "+-------------+-------+----------------+---------------+\n",
       "| (intercept) |  None | 87910.0724924  |  7873.3381434 |\n",
       "| sqft_living |  None | 315.403440552  | 3.45570032585 |\n",
       "|   bedrooms  |  None | -65080.2155528 | 2717.45685442 |\n",
       "|  bathrooms  |  None | 6944.02019265  | 3923.11493144 |\n",
       "+-------------+-------+----------------+---------------+\n",
       "[4 rows x 4 columns]"
      ]
     },
     "execution_count": 8,
     "metadata": {},
     "output_type": "execute_result"
    }
   ],
   "source": [
    "example_model.get(\"coefficients\")"
   ]
  },
  {
   "cell_type": "code",
   "execution_count": 10,
   "metadata": {
    "collapsed": false
   },
   "outputs": [
    {
     "name": "stdout",
     "output_type": "stream",
     "text": [
      "[271789.5058780203, 718880.3134862408, 207554.31080448133, 466612.01434113237, 436435.24634671607, 1568323.948940347, 449210.3718142016, 237413.10310809387, 461031.5702092758, 506141.9789589803, 1032865.724680975, 330561.65261979745, 336924.17472740496, 347277.26251285, 502669.9688626556, 339178.7353570801, 343177.79024188116, 293867.74671666673, 350694.81931260903, 873745.97504757, 495834.85526313726, 305647.35306643386, 681031.9006199897, 677559.890523665, 341178.2627994806, 384234.6908102188, 655536.1029815841, 343495.76593268494, 574631.2621045948, 496416.35334817925, 635457.3895853382, 358102.94179020566, 585829.37036932, 219325.42794728486, 655536.1029815841, 915480.4190428223, 394796.8476933364, 303329.8499332295, 906704.3484601378, 211862.85217312266, 567223.1396269982, 299075.7618611539, 778335.1481554362, 274943.5402835412, 773389.8829489788, 349540.3123494886, 594400.4890170005, 639184.4328689375, 737540.9975251282, 673305.8024515894, 810138.2421486751, 431917.6358804022, 586410.8684543619, 699322.7279217594, 390542.7596212607, 431863.1825838366, 785433.011692984, 702846.619064398, 551452.9675993936, 215016.8865786436, 787424.049928421, 1289551.471787856, 303965.80131483707, 595609.4492766865, 937199.092145358, 394851.300989902, 227633.02420072732, 344332.2972050016, 933091.1306674257, 651227.5616129428, 601808.611494597, 432963.23625039135, 202400.7489565599, 578048.818904354, 617106.192030291, 788905.0217893089, 481173.226109051, 294767.2204925125, 891825.1610014153, 278097.5746890621, 401422.89219518204, 401422.89219518204, 885780.6145846117, 203873.23161048404, 475701.6885703257, 641765.4583963801, 562914.5982583569, 531056.2785123439, 599027.0060764456, 831007.5227276357, 281251.6090945831, 648073.527207422, 426337.1917485456, 361001.94300845196, 835316.064096277, 573531.2084380401, 302229.79626667476, 390542.7596212607, 560860.6175193908, 1298440.56612634, ... ]\n"
     ]
    }
   ],
   "source": [
    "example_predictions = example_model.predict(train_data)\n",
    "print example_predictions"
   ]
  },
  {
   "cell_type": "code",
   "execution_count": 11,
   "metadata": {
    "collapsed": false
   },
   "outputs": [
    {
     "data": {
      "text/plain": [
       "dtype: float\n",
       "Rows: 17384\n",
       "[271789.5058780203, 718880.3134862408, 207554.31080448133, 466612.01434113237, 436435.24634671607, 1568323.948940347, 449210.3718142016, 237413.10310809387, 461031.5702092758, 506141.9789589803, 1032865.724680975, 330561.65261979745, 336924.17472740496, 347277.26251285, 502669.9688626556, 339178.7353570801, 343177.79024188116, 293867.74671666673, 350694.81931260903, 873745.97504757, 495834.85526313726, 305647.35306643386, 681031.9006199897, 677559.890523665, 341178.2627994806, 384234.6908102188, 655536.1029815841, 343495.76593268494, 574631.2621045948, 496416.35334817925, 635457.3895853382, 358102.94179020566, 585829.37036932, 219325.42794728486, 655536.1029815841, 915480.4190428223, 394796.8476933364, 303329.8499332295, 906704.3484601378, 211862.85217312266, 567223.1396269982, 299075.7618611539, 778335.1481554362, 274943.5402835412, 773389.8829489788, 349540.3123494886, 594400.4890170005, 639184.4328689375, 737540.9975251282, 673305.8024515894, 810138.2421486751, 431917.6358804022, 586410.8684543619, 699322.7279217594, 390542.7596212607, 431863.1825838366, 785433.011692984, 702846.619064398, 551452.9675993936, 215016.8865786436, 787424.049928421, 1289551.471787856, 303965.80131483707, 595609.4492766865, 937199.092145358, 394851.300989902, 227633.02420072732, 344332.2972050016, 933091.1306674257, 651227.5616129428, 601808.611494597, 432963.23625039135, 202400.7489565599, 578048.818904354, 617106.192030291, 788905.0217893089, 481173.226109051, 294767.2204925125, 891825.1610014153, 278097.5746890621, 401422.89219518204, 401422.89219518204, 885780.6145846117, 203873.23161048404, 475701.6885703257, 641765.4583963801, 562914.5982583569, 531056.2785123439, 599027.0060764456, 831007.5227276357, 281251.6090945831, 648073.527207422, 426337.1917485456, 361001.94300845196, 835316.064096277, 573531.2084380401, 302229.79626667476, 390542.7596212607, 560860.6175193908, 1298440.56612634, ... ]"
      ]
     },
     "execution_count": 11,
     "metadata": {},
     "output_type": "execute_result"
    }
   ],
   "source": [
    "example_predictions"
   ]
  },
  {
   "cell_type": "code",
   "execution_count": null,
   "metadata": {
    "collapsed": true
   },
   "outputs": [],
   "source": []
  }
 ],
 "metadata": {
  "kernelspec": {
   "display_name": "Python [conda env:gl-env]",
   "language": "python",
   "name": "conda-env-gl-env-py"
  },
  "language_info": {
   "codemirror_mode": {
    "name": "ipython",
    "version": 2
   },
   "file_extension": ".py",
   "mimetype": "text/x-python",
   "name": "python",
   "nbconvert_exporter": "python",
   "pygments_lexer": "ipython2",
   "version": "2.7.12"
  }
 },
 "nbformat": 4,
 "nbformat_minor": 0
}
